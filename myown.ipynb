{
 "cells": [
  {
   "cell_type": "code",
   "execution_count": 28,
   "id": "b8473dac-6258-4ced-a945-2cab56da6762",
   "metadata": {},
   "outputs": [],
   "source": [
    "import os\n",
    "import openai\n",
    "import sys\n",
    "\n",
    "env = {}\n",
    "\n",
    "# read .env file and set variables\n",
    "with open('.env') as f:\n",
    "    for line in f:\n",
    "        key, value = line.strip().split('=')\n",
    "        env[key] = value\n",
    "\n",
    "openai.api_key = env['OPEN_AI_KEY']\n",
    "OPENAI_API_KEY = env['OPEN_AI_KEY']"
   ]
  },
  {
   "cell_type": "code",
   "execution_count": 2,
   "id": "5220212d-1a4f-4975-99c4-be89705a1bf1",
   "metadata": {},
   "outputs": [
    {
     "name": "stdout",
     "output_type": "stream",
     "text": [
      "Collecting unstructured[md]\n",
      "  Downloading unstructured-0.14.9-py3-none-any.whl.metadata (28 kB)\n",
      "Collecting chardet (from unstructured[md])\n",
      "  Downloading chardet-5.2.0-py3-none-any.whl.metadata (3.4 kB)\n",
      "Collecting filetype (from unstructured[md])\n",
      "  Downloading filetype-1.2.0-py2.py3-none-any.whl.metadata (6.5 kB)\n",
      "Collecting python-magic (from unstructured[md])\n",
      "  Downloading python_magic-0.4.27-py2.py3-none-any.whl.metadata (5.8 kB)\n",
      "Collecting lxml (from unstructured[md])\n",
      "  Downloading lxml-5.2.2-cp311-cp311-macosx_10_9_universal2.whl.metadata (3.4 kB)\n",
      "Collecting nltk (from unstructured[md])\n",
      "  Downloading nltk-3.8.1-py3-none-any.whl.metadata (2.8 kB)\n",
      "Collecting tabulate (from unstructured[md])\n",
      "  Downloading tabulate-0.9.0-py3-none-any.whl.metadata (34 kB)\n",
      "Requirement already satisfied: requests in /Users/pikkuaapo/.pyenv/versions/3.11.8/lib/python3.11/site-packages (from unstructured[md]) (2.32.3)\n",
      "Requirement already satisfied: beautifulsoup4 in /Users/pikkuaapo/.pyenv/versions/3.11.8/lib/python3.11/site-packages (from unstructured[md]) (4.12.3)\n",
      "Collecting emoji (from unstructured[md])\n",
      "  Downloading emoji-2.12.1-py3-none-any.whl.metadata (5.4 kB)\n",
      "Requirement already satisfied: dataclasses-json in /Users/pikkuaapo/.pyenv/versions/3.11.8/lib/python3.11/site-packages (from unstructured[md]) (0.6.7)\n",
      "Collecting python-iso639 (from unstructured[md])\n",
      "  Downloading python_iso639-2024.4.27-py3-none-any.whl.metadata (13 kB)\n",
      "Collecting langdetect (from unstructured[md])\n",
      "  Downloading langdetect-1.0.9.tar.gz (981 kB)\n",
      "\u001b[2K     \u001b[90m━━━━━━━━━━━━━━━━━━━━━━━━━━━━━━━━━━━━━━\u001b[0m \u001b[32m981.5/981.5 kB\u001b[0m \u001b[31m10.0 MB/s\u001b[0m eta \u001b[36m0:00:00\u001b[0ma \u001b[36m0:00:01\u001b[0m\n",
      "\u001b[?25h  Installing build dependencies ... \u001b[?25ldone\n",
      "\u001b[?25h  Getting requirements to build wheel ... \u001b[?25ldone\n",
      "\u001b[?25h  Preparing metadata (pyproject.toml) ... \u001b[?25ldone\n",
      "\u001b[?25hRequirement already satisfied: numpy<2 in /Users/pikkuaapo/.pyenv/versions/3.11.8/lib/python3.11/site-packages (from unstructured[md]) (1.26.4)\n",
      "Collecting rapidfuzz (from unstructured[md])\n",
      "  Downloading rapidfuzz-3.9.4-cp311-cp311-macosx_11_0_arm64.whl.metadata (12 kB)\n",
      "Requirement already satisfied: backoff in /Users/pikkuaapo/.pyenv/versions/3.11.8/lib/python3.11/site-packages (from unstructured[md]) (2.2.1)\n",
      "Requirement already satisfied: typing-extensions in /Users/pikkuaapo/.pyenv/versions/3.11.8/lib/python3.11/site-packages (from unstructured[md]) (4.12.2)\n",
      "Collecting unstructured-client (from unstructured[md])\n",
      "  Downloading unstructured_client-0.23.8-py3-none-any.whl.metadata (12 kB)\n",
      "Requirement already satisfied: wrapt in /Users/pikkuaapo/.pyenv/versions/3.11.8/lib/python3.11/site-packages (from unstructured[md]) (1.16.0)\n",
      "Requirement already satisfied: tqdm in /Users/pikkuaapo/.pyenv/versions/3.11.8/lib/python3.11/site-packages (from unstructured[md]) (4.66.4)\n",
      "Collecting markdown (from unstructured[md])\n",
      "  Downloading Markdown-3.6-py3-none-any.whl.metadata (7.0 kB)\n",
      "Requirement already satisfied: soupsieve>1.2 in /Users/pikkuaapo/.pyenv/versions/3.11.8/lib/python3.11/site-packages (from beautifulsoup4->unstructured[md]) (2.5)\n",
      "Requirement already satisfied: marshmallow<4.0.0,>=3.18.0 in /Users/pikkuaapo/.pyenv/versions/3.11.8/lib/python3.11/site-packages (from dataclasses-json->unstructured[md]) (3.21.3)\n",
      "Requirement already satisfied: typing-inspect<1,>=0.4.0 in /Users/pikkuaapo/.pyenv/versions/3.11.8/lib/python3.11/site-packages (from dataclasses-json->unstructured[md]) (0.9.0)\n",
      "Requirement already satisfied: six in /Users/pikkuaapo/.pyenv/versions/3.11.8/lib/python3.11/site-packages (from langdetect->unstructured[md]) (1.16.0)\n",
      "Requirement already satisfied: click in /Users/pikkuaapo/.pyenv/versions/3.11.8/lib/python3.11/site-packages (from nltk->unstructured[md]) (8.1.7)\n",
      "Requirement already satisfied: joblib in /Users/pikkuaapo/.pyenv/versions/3.11.8/lib/python3.11/site-packages (from nltk->unstructured[md]) (1.4.2)\n",
      "Requirement already satisfied: regex>=2021.8.3 in /Users/pikkuaapo/.pyenv/versions/3.11.8/lib/python3.11/site-packages (from nltk->unstructured[md]) (2024.5.15)\n",
      "Requirement already satisfied: charset-normalizer<4,>=2 in /Users/pikkuaapo/.pyenv/versions/3.11.8/lib/python3.11/site-packages (from requests->unstructured[md]) (3.3.2)\n",
      "Requirement already satisfied: idna<4,>=2.5 in /Users/pikkuaapo/.pyenv/versions/3.11.8/lib/python3.11/site-packages (from requests->unstructured[md]) (3.7)\n",
      "Requirement already satisfied: urllib3<3,>=1.21.1 in /Users/pikkuaapo/.pyenv/versions/3.11.8/lib/python3.11/site-packages (from requests->unstructured[md]) (2.2.2)\n",
      "Requirement already satisfied: certifi>=2017.4.17 in /Users/pikkuaapo/.pyenv/versions/3.11.8/lib/python3.11/site-packages (from requests->unstructured[md]) (2024.6.2)\n",
      "Collecting deepdiff>=6.0 (from unstructured-client->unstructured[md])\n",
      "  Downloading deepdiff-7.0.1-py3-none-any.whl.metadata (6.8 kB)\n",
      "Requirement already satisfied: httpx>=0.27.0 in /Users/pikkuaapo/.pyenv/versions/3.11.8/lib/python3.11/site-packages (from unstructured-client->unstructured[md]) (0.27.0)\n",
      "Collecting jsonpath-python>=1.0.6 (from unstructured-client->unstructured[md])\n",
      "  Downloading jsonpath_python-1.0.6-py3-none-any.whl.metadata (12 kB)\n",
      "Requirement already satisfied: mypy-extensions>=1.0.0 in /Users/pikkuaapo/.pyenv/versions/3.11.8/lib/python3.11/site-packages (from unstructured-client->unstructured[md]) (1.0.0)\n",
      "Requirement already satisfied: nest-asyncio>=1.6.0 in /Users/pikkuaapo/.pyenv/versions/3.11.8/lib/python3.11/site-packages (from unstructured-client->unstructured[md]) (1.6.0)\n",
      "Requirement already satisfied: packaging>=23.1 in /Users/pikkuaapo/.pyenv/versions/3.11.8/lib/python3.11/site-packages (from unstructured-client->unstructured[md]) (24.1)\n",
      "Requirement already satisfied: pypdf>=4.0 in /Users/pikkuaapo/.pyenv/versions/3.11.8/lib/python3.11/site-packages (from unstructured-client->unstructured[md]) (4.2.0)\n",
      "Requirement already satisfied: python-dateutil>=2.8.2 in /Users/pikkuaapo/.pyenv/versions/3.11.8/lib/python3.11/site-packages (from unstructured-client->unstructured[md]) (2.9.0.post0)\n",
      "Collecting requests-toolbelt>=1.0.0 (from unstructured-client->unstructured[md])\n",
      "  Downloading requests_toolbelt-1.0.0-py2.py3-none-any.whl.metadata (14 kB)\n",
      "Collecting ordered-set<4.2.0,>=4.1.0 (from deepdiff>=6.0->unstructured-client->unstructured[md])\n",
      "  Downloading ordered_set-4.1.0-py3-none-any.whl.metadata (5.3 kB)\n",
      "Requirement already satisfied: anyio in /Users/pikkuaapo/.pyenv/versions/3.11.8/lib/python3.11/site-packages (from httpx>=0.27.0->unstructured-client->unstructured[md]) (4.4.0)\n",
      "Requirement already satisfied: httpcore==1.* in /Users/pikkuaapo/.pyenv/versions/3.11.8/lib/python3.11/site-packages (from httpx>=0.27.0->unstructured-client->unstructured[md]) (1.0.5)\n",
      "Requirement already satisfied: sniffio in /Users/pikkuaapo/.pyenv/versions/3.11.8/lib/python3.11/site-packages (from httpx>=0.27.0->unstructured-client->unstructured[md]) (1.3.1)\n",
      "Requirement already satisfied: h11<0.15,>=0.13 in /Users/pikkuaapo/.pyenv/versions/3.11.8/lib/python3.11/site-packages (from httpcore==1.*->httpx>=0.27.0->unstructured-client->unstructured[md]) (0.14.0)\n",
      "Downloading chardet-5.2.0-py3-none-any.whl (199 kB)\n",
      "\u001b[2K   \u001b[90m━━━━━━━━━━━━━━━━━━━━━━━━━━━━━━━━━━━━━━━━\u001b[0m \u001b[32m199.4/199.4 kB\u001b[0m \u001b[31m8.7 MB/s\u001b[0m eta \u001b[36m0:00:00\u001b[0m\n",
      "\u001b[?25hDownloading emoji-2.12.1-py3-none-any.whl (431 kB)\n",
      "\u001b[2K   \u001b[90m━━━━━━━━━━━━━━━━━━━━━━━━━━━━━━━━━━━━━━━━\u001b[0m \u001b[32m431.4/431.4 kB\u001b[0m \u001b[31m9.1 MB/s\u001b[0m eta \u001b[36m0:00:00\u001b[0mta \u001b[36m0:00:01\u001b[0m\n",
      "\u001b[?25hDownloading filetype-1.2.0-py2.py3-none-any.whl (19 kB)\n",
      "Downloading lxml-5.2.2-cp311-cp311-macosx_10_9_universal2.whl (8.1 MB)\n",
      "\u001b[2K   \u001b[90m━━━━━━━━━━━━━━━━━━━━━━━━━━━━━━━━━━━━━━━━\u001b[0m \u001b[32m8.1/8.1 MB\u001b[0m \u001b[31m10.9 MB/s\u001b[0m eta \u001b[36m0:00:00\u001b[0m00:01\u001b[0m00:01\u001b[0m\n",
      "\u001b[?25hDownloading Markdown-3.6-py3-none-any.whl (105 kB)\n",
      "\u001b[2K   \u001b[90m━━━━━━━━━━━━━━━━━━━━━━━━━━━━━━━━━━━━━━━━\u001b[0m \u001b[32m105.4/105.4 kB\u001b[0m \u001b[31m6.1 MB/s\u001b[0m eta \u001b[36m0:00:00\u001b[0m\n",
      "\u001b[?25hDownloading nltk-3.8.1-py3-none-any.whl (1.5 MB)\n",
      "\u001b[2K   \u001b[90m━━━━━━━━━━━━━━━━━━━━━━━━━━━━━━━━━━━━━━━━\u001b[0m \u001b[32m1.5/1.5 MB\u001b[0m \u001b[31m10.3 MB/s\u001b[0m eta \u001b[36m0:00:00\u001b[0ma \u001b[36m0:00:01\u001b[0m\n",
      "\u001b[?25hDownloading python_iso639-2024.4.27-py3-none-any.whl (274 kB)\n",
      "\u001b[2K   \u001b[90m━━━━━━━━━━━━━━━━━━━━━━━━━━━━━━━━━━━━━━━━\u001b[0m \u001b[32m274.7/274.7 kB\u001b[0m \u001b[31m8.1 MB/s\u001b[0m eta \u001b[36m0:00:00\u001b[0m\n",
      "\u001b[?25hDownloading python_magic-0.4.27-py2.py3-none-any.whl (13 kB)\n",
      "Downloading rapidfuzz-3.9.4-cp311-cp311-macosx_11_0_arm64.whl (1.5 MB)\n",
      "\u001b[2K   \u001b[90m━━━━━━━━━━━━━━━━━━━━━━━━━━━━━━━━━━━━━━━━\u001b[0m \u001b[32m1.5/1.5 MB\u001b[0m \u001b[31m10.2 MB/s\u001b[0m eta \u001b[36m0:00:00\u001b[0ma \u001b[36m0:00:01\u001b[0m\n",
      "\u001b[?25hDownloading tabulate-0.9.0-py3-none-any.whl (35 kB)\n",
      "Downloading unstructured-0.14.9-py3-none-any.whl (2.1 MB)\n",
      "\u001b[2K   \u001b[90m━━━━━━━━━━━━━━━━━━━━━━━━━━━━━━━━━━━━━━━━\u001b[0m \u001b[32m2.1/2.1 MB\u001b[0m \u001b[31m10.5 MB/s\u001b[0m eta \u001b[36m0:00:00\u001b[0m00:01\u001b[0m00:01\u001b[0m\n",
      "\u001b[?25hDownloading unstructured_client-0.23.8-py3-none-any.whl (40 kB)\n",
      "\u001b[2K   \u001b[90m━━━━━━━━━━━━━━━━━━━━━━━━━━━━━━━━━━━━━━━━\u001b[0m \u001b[32m41.0/41.0 kB\u001b[0m \u001b[31m3.4 MB/s\u001b[0m eta \u001b[36m0:00:00\u001b[0m\n",
      "\u001b[?25hDownloading deepdiff-7.0.1-py3-none-any.whl (80 kB)\n",
      "\u001b[2K   \u001b[90m━━━━━━━━━━━━━━━━━━━━━━━━━━━━━━━━━━━━━━━━\u001b[0m \u001b[32m80.8/80.8 kB\u001b[0m \u001b[31m4.9 MB/s\u001b[0m eta \u001b[36m0:00:00\u001b[0m\n",
      "\u001b[?25hDownloading jsonpath_python-1.0.6-py3-none-any.whl (7.6 kB)\n",
      "Downloading requests_toolbelt-1.0.0-py2.py3-none-any.whl (54 kB)\n",
      "\u001b[2K   \u001b[90m━━━━━━━━━━━━━━━━━━━━━━━━━━━━━━━━━━━━━━━━\u001b[0m \u001b[32m54.5/54.5 kB\u001b[0m \u001b[31m4.4 MB/s\u001b[0m eta \u001b[36m0:00:00\u001b[0m\n",
      "\u001b[?25hDownloading ordered_set-4.1.0-py3-none-any.whl (7.6 kB)\n",
      "Building wheels for collected packages: langdetect\n",
      "  Building wheel for langdetect (pyproject.toml) ... \u001b[?25ldone\n",
      "\u001b[?25h  Created wheel for langdetect: filename=langdetect-1.0.9-py3-none-any.whl size=993221 sha256=641ed7c344b8a4c17c87667adac9214447b5307acc33d5b8c3c3f4dbd0cf32f3\n",
      "  Stored in directory: /Users/pikkuaapo/Library/Caches/pip/wheels/0a/f2/b2/e5ca405801e05eb7c8ed5b3b4bcf1fcabcd6272c167640072e\n",
      "Successfully built langdetect\n",
      "Installing collected packages: filetype, tabulate, rapidfuzz, python-magic, python-iso639, ordered-set, nltk, markdown, lxml, langdetect, jsonpath-python, emoji, chardet, requests-toolbelt, deepdiff, unstructured-client, unstructured\n",
      "Successfully installed chardet-5.2.0 deepdiff-7.0.1 emoji-2.12.1 filetype-1.2.0 jsonpath-python-1.0.6 langdetect-1.0.9 lxml-5.2.2 markdown-3.6 nltk-3.8.1 ordered-set-4.1.0 python-iso639-2024.4.27 python-magic-0.4.27 rapidfuzz-3.9.4 requests-toolbelt-1.0.0 tabulate-0.9.0 unstructured-0.14.9 unstructured-client-0.23.8\n",
      "\n",
      "\u001b[1m[\u001b[0m\u001b[34;49mnotice\u001b[0m\u001b[1;39;49m]\u001b[0m\u001b[39;49m A new release of pip is available: \u001b[0m\u001b[31;49m24.0\u001b[0m\u001b[39;49m -> \u001b[0m\u001b[32;49m24.1.1\u001b[0m\n",
      "\u001b[1m[\u001b[0m\u001b[34;49mnotice\u001b[0m\u001b[1;39;49m]\u001b[0m\u001b[39;49m To update, run: \u001b[0m\u001b[32;49mpip install --upgrade pip\u001b[0m\n",
      "Note: you may need to restart the kernel to use updated packages.\n"
     ]
    }
   ],
   "source": [
    "pip install \"unstructured[md]\""
   ]
  },
  {
   "cell_type": "code",
   "execution_count": 3,
   "id": "0afc9dd7-8895-4e79-8b50-5750f5d501b7",
   "metadata": {},
   "outputs": [],
   "source": [
    "from langchain_community.document_loaders import UnstructuredMarkdownLoader\n"
   ]
  },
  {
   "cell_type": "code",
   "execution_count": 4,
   "id": "d2afcbb3-5904-4b30-9a88-a1572ffe5be9",
   "metadata": {},
   "outputs": [
    {
     "name": "stderr",
     "output_type": "stream",
     "text": [
      "[nltk_data] Downloading package punkt to /Users/pikkuaapo/nltk_data...\n",
      "[nltk_data]   Unzipping tokenizers/punkt.zip.\n",
      "[nltk_data] Downloading package averaged_perceptron_tagger to\n",
      "[nltk_data]     /Users/pikkuaapo/nltk_data...\n",
      "[nltk_data]   Unzipping taggers/averaged_perceptron_tagger.zip.\n"
     ]
    }
   ],
   "source": [
    "\n",
    "# Load md's\n",
    "loaders = [\n",
    "    UnstructuredMarkdownLoader('testdocs/product_eclipse_x1.md'),\n",
    "    UnstructuredMarkdownLoader('testdocs/product_washing_machine.md'),\n",
    "]\n",
    "docs = []\n",
    "for loader in loaders:\n",
    "    docs.extend(loader.load())"
   ]
  },
  {
   "cell_type": "code",
   "execution_count": 5,
   "id": "9ecec615-03fd-4e6e-ab25-c26044086f8a",
   "metadata": {},
   "outputs": [],
   "source": [
    "# Split\n",
    "from langchain.text_splitter import RecursiveCharacterTextSplitter\n",
    "text_splitter = RecursiveCharacterTextSplitter(\n",
    "    chunk_size = 1500,\n",
    "    chunk_overlap = 150\n",
    ")"
   ]
  },
  {
   "cell_type": "code",
   "execution_count": 6,
   "id": "e329e03f-0bf6-4547-8994-814cc6652a0e",
   "metadata": {},
   "outputs": [],
   "source": [
    "splits = text_splitter.split_documents(docs)"
   ]
  },
  {
   "cell_type": "code",
   "execution_count": 7,
   "id": "c1ff046b-6799-45d4-98a9-2398ac800ac9",
   "metadata": {},
   "outputs": [],
   "source": [
    "from langchain.vectorstores import Chroma"
   ]
  },
  {
   "cell_type": "code",
   "execution_count": 8,
   "id": "f0034aa4-3728-4764-b428-5e5532739a44",
   "metadata": {},
   "outputs": [],
   "source": [
    "persist_directory = 'testdocs/chroma/'"
   ]
  },
  {
   "cell_type": "code",
   "execution_count": 30,
   "id": "4075005e-bb13-4245-bfed-3f2ec033015e",
   "metadata": {},
   "outputs": [],
   "source": [
    "from langchain.embeddings.openai import OpenAIEmbeddings\n",
    "embedding = OpenAIEmbeddings(openai_api_key=env['OPEN_AI_KEY'])"
   ]
  },
  {
   "cell_type": "code",
   "execution_count": 31,
   "id": "f59c70c6-812d-4c06-9fd8-e0b841fde559",
   "metadata": {},
   "outputs": [],
   "source": [
    "vectordb = Chroma.from_documents(\n",
    "    documents=splits,\n",
    "    embedding=embedding,\n",
    "    persist_directory=persist_directory\n",
    ")"
   ]
  },
  {
   "cell_type": "code",
   "execution_count": 32,
   "id": "fad05eee-6a9d-4c57-8a48-942ac2fa9929",
   "metadata": {},
   "outputs": [
    {
     "name": "stdout",
     "output_type": "stream",
     "text": [
      "16\n"
     ]
    }
   ],
   "source": [
    "print(vectordb._collection.count())"
   ]
  },
  {
   "cell_type": "code",
   "execution_count": 33,
   "id": "a585804b-ffde-4739-bfbf-a64cd82240a0",
   "metadata": {},
   "outputs": [],
   "source": [
    "question = \"How many cores does X1 have?\""
   ]
  },
  {
   "cell_type": "code",
   "execution_count": 34,
   "id": "5b02f513-00b7-4c7c-8c05-eaa2f9ef328b",
   "metadata": {},
   "outputs": [],
   "source": [
    "docs = vectordb.similarity_search(question,k=5)"
   ]
  },
  {
   "cell_type": "code",
   "execution_count": 35,
   "id": "758ea2fd-450d-41c0-9254-12d85d51d623",
   "metadata": {},
   "outputs": [
    {
     "data": {
      "text/plain": [
       "Document(metadata={'source': 'testdocs/product_eclipse_x1.md'}, page_content='Efficiency Cores (EC):\\n\\nCore Count: 16 efficiency cores\\n\\nClock Speed: 2.5 GHz\\n\\nArchitecture: Energy-efficient ARM v10 design optimized for low-power operations, background tasks, and always-on functionalities.\\n\\nNeural Processing Unit (NPU):\\n\\nCore Count: 4 specialized AI cores\\n\\nCapabilities: Optimized for machine learning, neural network inference, and AI-driven applications, with support for INT8, FP16, and BFLOAT16 data types.\\n\\nGraphics Processing Unit (GPU):\\n\\nArchitecture: Custom 2048-core GPU based on AMD RDNA 4 architecture\\n\\nFeatures: Ray tracing, AI-driven image enhancement, and support for 8K resolution displays.\\n\\nPerformance Metrics\\n\\nThe Eclipse X1 processor delivers exceptional performance across a range of benchmarks, reflecting its capability to handle diverse workloads efficiently:\\n\\nSingle-Core Performance:\\n\\nThe high-performance cores achieve industry-leading single-threaded performance, making them ideal for tasks requiring high computational power, such as gaming, video editing, and scientific simulations.\\n\\nMulti-Core Performance:\\n\\nThe combination of high-performance and efficiency cores provides exceptional multi-threaded performance, enabling seamless multitasking and efficient handling of parallel workloads.\\n\\nAI and Machine Learning:\\n\\nThe integrated NPU significantly accelerates AI and machine learning tasks, reducing the time required for training and inference in complex neural networks.\\n\\nGraphics and Visual Computing:')"
      ]
     },
     "execution_count": 35,
     "metadata": {},
     "output_type": "execute_result"
    }
   ],
   "source": [
    "docs[0]"
   ]
  },
  {
   "cell_type": "code",
   "execution_count": 37,
   "id": "677af171-8601-4140-96c4-8e4fc703c94c",
   "metadata": {},
   "outputs": [],
   "source": [
    "from langchain.chat_models import ChatOpenAI\n",
    "llm_name = \"gpt-3.5-turbo\"\n",
    "llm = ChatOpenAI(model_name=llm_name, temperature=0, openai_api_key=env['OPEN_AI_KEY'])"
   ]
  },
  {
   "cell_type": "code",
   "execution_count": 38,
   "id": "6d6ba668-5a8a-4efb-831d-4e5270ec0fd2",
   "metadata": {},
   "outputs": [],
   "source": [
    "from langchain.chains import RetrievalQA"
   ]
  },
  {
   "cell_type": "code",
   "execution_count": 39,
   "id": "fab8f1a9-8bd1-4262-b4bf-a780c26d26dd",
   "metadata": {},
   "outputs": [],
   "source": [
    "qa_chain = RetrievalQA.from_chain_type(\n",
    "    llm,\n",
    "    retriever=vectordb.as_retriever()\n",
    ")"
   ]
  },
  {
   "cell_type": "code",
   "execution_count": 40,
   "id": "652fed2e-0285-4c5a-9589-373aa2018e51",
   "metadata": {},
   "outputs": [],
   "source": [
    "result = qa_chain({\"query\": question})"
   ]
  },
  {
   "cell_type": "code",
   "execution_count": 41,
   "id": "ee975ab9-5246-43c0-9656-848e73b030f1",
   "metadata": {},
   "outputs": [
    {
     "data": {
      "text/plain": [
       "'The Eclipse X1 processor has a total of 24 cores, consisting of 8 high-performance cores and 16 efficiency cores.'"
      ]
     },
     "execution_count": 41,
     "metadata": {},
     "output_type": "execute_result"
    }
   ],
   "source": [
    "result[\"result\"]"
   ]
  },
  {
   "cell_type": "code",
   "execution_count": 42,
   "id": "ae056b31-bc36-4a06-8965-bd6bd25b34e9",
   "metadata": {},
   "outputs": [],
   "source": [
    "question = \"Can I use voice commands with my AI-powered washing machine?\""
   ]
  },
  {
   "cell_type": "code",
   "execution_count": 43,
   "id": "5609efe0-cefa-4978-b22a-1acd2d0e00db",
   "metadata": {},
   "outputs": [],
   "source": [
    "result = qa_chain({\"query\": question})"
   ]
  },
  {
   "cell_type": "code",
   "execution_count": 44,
   "id": "550301cd-9dab-4d68-a8c7-8ff543f21545",
   "metadata": {},
   "outputs": [
    {
     "data": {
      "text/plain": [
       "'Yes, you can use voice commands with your AI-powered washing machine. You can start, stop, and monitor wash cycles using voice assistants like Alexa and Google Assistant.'"
      ]
     },
     "execution_count": 44,
     "metadata": {},
     "output_type": "execute_result"
    }
   ],
   "source": [
    "result[\"result\"]"
   ]
  },
  {
   "cell_type": "code",
   "execution_count": 45,
   "id": "d81458ec-469f-439a-ae93-3e94f5dc45d0",
   "metadata": {},
   "outputs": [],
   "source": [
    "question = \"What are the distuingishing features of my AI-powered washing machine compared to typical washing machines?\""
   ]
  },
  {
   "cell_type": "code",
   "execution_count": 47,
   "id": "c7ad72f0-0cfc-4cec-a4ec-e2712f03ec1b",
   "metadata": {},
   "outputs": [],
   "source": [
    "result = qa_chain({\"query\": question})"
   ]
  },
  {
   "cell_type": "code",
   "execution_count": 48,
   "id": "013dcb61-1201-492f-af81-1b4cd1d10fe0",
   "metadata": {},
   "outputs": [
    {
     "data": {
      "text/plain": [
       "'The distinguishing features of your AI-powered washing machine compared to typical washing machines include:\\n\\n1. Intelligent Load Sensing: Automatically detects fabric type, load size, and soil level for optimal wash cycles.\\n2. AI-Powered Stain Detection: Identifies and treats different types of stains with precision.\\n3. Voice Control & Smart Integration: Compatible with smart home systems and voice assistants for seamless operation.\\n4. Eco-Friendly Washing: Minimizes water and energy consumption without compromising performance.\\n5. Optimized Water Usage: Uses just the right amount of water for each load, reducing waste and saving on utility bills.\\n6. Enhanced User Experience: Enjoy a seamless, connected home environment with customizable alerts and remote control features.'"
      ]
     },
     "execution_count": 48,
     "metadata": {},
     "output_type": "execute_result"
    }
   ],
   "source": [
    "result[\"result\"]"
   ]
  },
  {
   "cell_type": "code",
   "execution_count": null,
   "id": "ef5d2601-56c5-4539-b266-3c47b8e8f169",
   "metadata": {},
   "outputs": [],
   "source": []
  }
 ],
 "metadata": {
  "kernelspec": {
   "display_name": "Python 3 (ipykernel)",
   "language": "python",
   "name": "python3"
  },
  "language_info": {
   "codemirror_mode": {
    "name": "ipython",
    "version": 3
   },
   "file_extension": ".py",
   "mimetype": "text/x-python",
   "name": "python",
   "nbconvert_exporter": "python",
   "pygments_lexer": "ipython3",
   "version": "3.11.8"
  }
 },
 "nbformat": 4,
 "nbformat_minor": 5
}
